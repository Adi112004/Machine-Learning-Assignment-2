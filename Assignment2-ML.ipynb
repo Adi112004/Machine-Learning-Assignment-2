{
 "cells": [
  {
   "cell_type": "markdown",
   "id": "a373ec86",
   "metadata": {},
   "source": [
    "# Assignment 2 Project A: Colon Cancer Image Classification"
   ]
  },
  {
   "cell_type": "markdown",
   "id": "4ee8b866",
   "metadata": {},
   "source": [
    "## Setup & Imports"
   ]
  },
  {
   "cell_type": "code",
<<<<<<< HEAD
   "execution_count": 1,
=======
   "execution_count": null,
>>>>>>> 5ef59afeaf8a64263f05e8c70398a058883f624b
   "id": "3a5b1f06",
   "metadata": {},
   "outputs": [],
   "source": [
    "import os\n",
    "import numpy as np\n",
    "import pandas as pd\n",
    "import matplotlib.pyplot as plt\n",
    "from pathlib import Path\n",
    "from sklearn.model_selection import GroupShuffleSplit\n",
    "from sklearn.model_selection import train_test_split\n",
    "\n",
    "# Directory paths\n",
    "main = '../Image_classification_data/data_labels_mainData.csv'\n",
    "extra = '../Image_classification_data/data_labels_extraData.csv'\n",
    "img_dir = '../Image_classification_data/patch_images'\n"
   ]
  },
  {
   "cell_type": "markdown",
   "id": "4d2fa016",
   "metadata": {},
   "source": [
    "## 1. Load & Inspect Labels\n",
    "### 1.1 Data Exploration and Understanding\n",
    "\n",
    "#### Class Imbalance Identification"
   ]
  },
  {
   "cell_type": "code",
<<<<<<< HEAD
   "execution_count": 2,
=======
   "execution_count": null,
>>>>>>> 5ef59afeaf8a64263f05e8c70398a058883f624b
   "id": "94a82d66",
   "metadata": {},
   "outputs": [],
   "source": [
    "df_main = pd.read_csv(main)\n",
    "df_extra = pd.read_csv(extra)\n",
    "\n",
    "counts = df_main['isCancerous'].value_counts().sort_index()\n",
    "\n",
    "class_names = ['Non-Cancerous', 'Cancerous']\n",
    "counts.index = class_names\n",
    "\n",
    "plt.figure(figsize=(6, 4))\n",
    "bars = plt.bar(counts.index, counts.values)\n",
    "plt.title('Distribution of isCancerous Classes')\n",
    "plt.xlabel('Class')\n",
    "plt.ylabel('Number of Images')\n",
    "\n",
    "plt.tight_layout()\n",
    "plt.show()\n",
    "\n",
    "counts = df_main['cellTypeName'].value_counts().sort_index()\n",
    "\n",
    "plt.figure(figsize=(6, 4))\n",
    "bars = plt.bar(counts.index, counts.values)\n",
    "plt.title('Distribution of Cell Types')\n",
    "plt.xlabel('Cell Type')\n",
    "plt.ylabel('Number of Images')\n",
    "\n",
    "plt.tight_layout()\n",
    "plt.show()"
   ]
  },
  {
   "cell_type": "markdown",
   "id": "24eb4b54",
   "metadata": {},
   "source": [
    "- The above represents the class imbalances for isCancerous and cellTypeName, visualised through the bar graphs. The isCancerous class shows a clear imbalance in the count, as there are ~50% more non-cancerous compared to the cancerous.\n",
    "- As for the cell types there is a clear disparancy between the **epithelial** cells and the rest, having twice the count compared to **fibroblast** and **others**. Also, being ~60% greater than the **inflammatory** cell.\n",
    "- The difference in the count would lead to misleading accuracy towards the non-cancerous as it represents the majority of data and epithelial for the cell types. For data with fewer cases, models would tend to have low recall as there may not be enough information to be able to tell features apart leadning to worse generalisation.  \n",
    "\n"
   ]
  },
  {
   "cell_type": "markdown",
   "id": "2ce2f895",
   "metadata": {},
   "source": [
    "#### Exploratory Data Analysis (EDA)"
   ]
  },
  {
   "cell_type": "code",
<<<<<<< HEAD
   "execution_count": 3,
   "id": "f824d617",
   "metadata": {},
   "outputs": [
    {
     "data": {
      "text/html": [
       "<div>\n",
       "<style scoped>\n",
       "    .dataframe tbody tr th:only-of-type {\n",
       "        vertical-align: middle;\n",
       "    }\n",
       "\n",
       "    .dataframe tbody tr th {\n",
       "        vertical-align: top;\n",
       "    }\n",
       "\n",
       "    .dataframe thead th {\n",
       "        text-align: right;\n",
       "    }\n",
       "</style>\n",
       "<table border=\"1\" class=\"dataframe\">\n",
       "  <thead>\n",
       "    <tr style=\"text-align: right;\">\n",
       "      <th></th>\n",
       "      <th>InstanceID</th>\n",
       "      <th>patientID</th>\n",
       "      <th>ImageName</th>\n",
       "      <th>cellTypeName</th>\n",
       "      <th>cellType</th>\n",
       "      <th>isCancerous</th>\n",
       "    </tr>\n",
       "  </thead>\n",
       "  <tbody>\n",
       "    <tr>\n",
       "      <th>0</th>\n",
       "      <td>22405</td>\n",
       "      <td>1</td>\n",
       "      <td>22405.png</td>\n",
       "      <td>fibroblast</td>\n",
       "      <td>0</td>\n",
       "      <td>0</td>\n",
       "    </tr>\n",
       "    <tr>\n",
       "      <th>1</th>\n",
       "      <td>22406</td>\n",
       "      <td>1</td>\n",
       "      <td>22406.png</td>\n",
       "      <td>fibroblast</td>\n",
       "      <td>0</td>\n",
       "      <td>0</td>\n",
       "    </tr>\n",
       "    <tr>\n",
       "      <th>2</th>\n",
       "      <td>22407</td>\n",
       "      <td>1</td>\n",
       "      <td>22407.png</td>\n",
       "      <td>fibroblast</td>\n",
       "      <td>0</td>\n",
       "      <td>0</td>\n",
       "    </tr>\n",
       "    <tr>\n",
       "      <th>3</th>\n",
       "      <td>22408</td>\n",
       "      <td>1</td>\n",
       "      <td>22408.png</td>\n",
       "      <td>fibroblast</td>\n",
       "      <td>0</td>\n",
       "      <td>0</td>\n",
       "    </tr>\n",
       "    <tr>\n",
       "      <th>4</th>\n",
       "      <td>22409</td>\n",
       "      <td>1</td>\n",
       "      <td>22409.png</td>\n",
       "      <td>fibroblast</td>\n",
       "      <td>0</td>\n",
       "      <td>0</td>\n",
       "    </tr>\n",
       "  </tbody>\n",
       "</table>\n",
       "</div>"
      ],
      "text/plain": [
       "   InstanceID  patientID  ImageName cellTypeName  cellType  isCancerous\n",
       "0       22405          1  22405.png   fibroblast         0            0\n",
       "1       22406          1  22406.png   fibroblast         0            0\n",
       "2       22407          1  22407.png   fibroblast         0            0\n",
       "3       22408          1  22408.png   fibroblast         0            0\n",
       "4       22409          1  22409.png   fibroblast         0            0"
      ]
     },
     "execution_count": 3,
     "metadata": {},
     "output_type": "execute_result"
    }
   ],
=======
   "execution_count": null,
   "id": "f824d617",
   "metadata": {},
   "outputs": [],
>>>>>>> 5ef59afeaf8a64263f05e8c70398a058883f624b
   "source": [
    "df_main.head()"
   ]
  },
  {
   "cell_type": "code",
<<<<<<< HEAD
   "execution_count": 4,
=======
   "execution_count": null,
>>>>>>> 5ef59afeaf8a64263f05e8c70398a058883f624b
   "id": "3e1d13d9",
   "metadata": {},
   "outputs": [],
   "source": [
    "df_main.info()"
   ]
  },
  {
   "cell_type": "code",
<<<<<<< HEAD
   "execution_count": 5,
   "id": "9c1f24c6",
   "metadata": {},
   "outputs": [
    {
     "data": {
      "text/html": [
       "<div>\n",
       "<style scoped>\n",
       "    .dataframe tbody tr th:only-of-type {\n",
       "        vertical-align: middle;\n",
       "    }\n",
       "\n",
       "    .dataframe tbody tr th {\n",
       "        vertical-align: top;\n",
       "    }\n",
       "\n",
       "    .dataframe thead th {\n",
       "        text-align: right;\n",
       "    }\n",
       "</style>\n",
       "<table border=\"1\" class=\"dataframe\">\n",
       "  <thead>\n",
       "    <tr style=\"text-align: right;\">\n",
       "      <th></th>\n",
       "      <th>InstanceID</th>\n",
       "      <th>patientID</th>\n",
       "      <th>ImageName</th>\n",
       "      <th>cellTypeName</th>\n",
       "      <th>cellType</th>\n",
       "      <th>isCancerous</th>\n",
       "    </tr>\n",
       "  </thead>\n",
       "  <tbody>\n",
       "    <tr>\n",
       "      <th>0</th>\n",
       "      <td>False</td>\n",
       "      <td>False</td>\n",
       "      <td>False</td>\n",
       "      <td>False</td>\n",
       "      <td>False</td>\n",
       "      <td>False</td>\n",
       "    </tr>\n",
       "    <tr>\n",
       "      <th>1</th>\n",
       "      <td>False</td>\n",
       "      <td>False</td>\n",
       "      <td>False</td>\n",
       "      <td>False</td>\n",
       "      <td>False</td>\n",
       "      <td>False</td>\n",
       "    </tr>\n",
       "    <tr>\n",
       "      <th>2</th>\n",
       "      <td>False</td>\n",
       "      <td>False</td>\n",
       "      <td>False</td>\n",
       "      <td>False</td>\n",
       "      <td>False</td>\n",
       "      <td>False</td>\n",
       "    </tr>\n",
       "    <tr>\n",
       "      <th>3</th>\n",
       "      <td>False</td>\n",
       "      <td>False</td>\n",
       "      <td>False</td>\n",
       "      <td>False</td>\n",
       "      <td>False</td>\n",
       "      <td>False</td>\n",
       "    </tr>\n",
       "    <tr>\n",
       "      <th>4</th>\n",
       "      <td>False</td>\n",
       "      <td>False</td>\n",
       "      <td>False</td>\n",
       "      <td>False</td>\n",
       "      <td>False</td>\n",
       "      <td>False</td>\n",
       "    </tr>\n",
       "    <tr>\n",
       "      <th>...</th>\n",
       "      <td>...</td>\n",
       "      <td>...</td>\n",
       "      <td>...</td>\n",
       "      <td>...</td>\n",
       "      <td>...</td>\n",
       "      <td>...</td>\n",
       "    </tr>\n",
       "    <tr>\n",
       "      <th>9891</th>\n",
       "      <td>False</td>\n",
       "      <td>False</td>\n",
       "      <td>False</td>\n",
       "      <td>False</td>\n",
       "      <td>False</td>\n",
       "      <td>False</td>\n",
       "    </tr>\n",
       "    <tr>\n",
       "      <th>9892</th>\n",
       "      <td>False</td>\n",
       "      <td>False</td>\n",
       "      <td>False</td>\n",
       "      <td>False</td>\n",
       "      <td>False</td>\n",
       "      <td>False</td>\n",
       "    </tr>\n",
       "    <tr>\n",
       "      <th>9893</th>\n",
       "      <td>False</td>\n",
       "      <td>False</td>\n",
       "      <td>False</td>\n",
       "      <td>False</td>\n",
       "      <td>False</td>\n",
       "      <td>False</td>\n",
       "    </tr>\n",
       "    <tr>\n",
       "      <th>9894</th>\n",
       "      <td>False</td>\n",
       "      <td>False</td>\n",
       "      <td>False</td>\n",
       "      <td>False</td>\n",
       "      <td>False</td>\n",
       "      <td>False</td>\n",
       "    </tr>\n",
       "    <tr>\n",
       "      <th>9895</th>\n",
       "      <td>False</td>\n",
       "      <td>False</td>\n",
       "      <td>False</td>\n",
       "      <td>False</td>\n",
       "      <td>False</td>\n",
       "      <td>False</td>\n",
       "    </tr>\n",
       "  </tbody>\n",
       "</table>\n",
       "<p>9896 rows × 6 columns</p>\n",
       "</div>"
      ],
      "text/plain": [
       "      InstanceID  patientID  ImageName  cellTypeName  cellType  isCancerous\n",
       "0          False      False      False         False     False        False\n",
       "1          False      False      False         False     False        False\n",
       "2          False      False      False         False     False        False\n",
       "3          False      False      False         False     False        False\n",
       "4          False      False      False         False     False        False\n",
       "...          ...        ...        ...           ...       ...          ...\n",
       "9891       False      False      False         False     False        False\n",
       "9892       False      False      False         False     False        False\n",
       "9893       False      False      False         False     False        False\n",
       "9894       False      False      False         False     False        False\n",
       "9895       False      False      False         False     False        False\n",
       "\n",
       "[9896 rows x 6 columns]"
      ]
     },
     "execution_count": 5,
     "metadata": {},
     "output_type": "execute_result"
    }
   ],
=======
   "execution_count": null,
   "id": "9c1f24c6",
   "metadata": {},
   "outputs": [],
>>>>>>> 5ef59afeaf8a64263f05e8c70398a058883f624b
   "source": [
    "df_main.isna()"
   ]
  },
  {
   "cell_type": "code",
<<<<<<< HEAD
   "execution_count": 6,
=======
   "execution_count": null,
>>>>>>> 5ef59afeaf8a64263f05e8c70398a058883f624b
   "id": "010d10ba",
   "metadata": {},
   "outputs": [],
   "source": [
    "# --- Images-Per-Patient Histogram ---\n",
    "\n",
    "counts_patient = df_main['patientID'].value_counts()\n",
    "\n",
    "plt.figure(figsize=(6, 4))\n",
    "plt.hist(counts_patient, bins=20, edgecolor='black')\n",
    "plt.title('Number of Patches per Patient')\n",
    "plt.xlabel('Number of Patches')\n",
    "plt.ylabel('Number of Patients')\n",
    "plt.tight_layout()\n",
    "plt.show()"
   ]
  },
  {
   "cell_type": "code",
<<<<<<< HEAD
   "execution_count": 7,
=======
   "execution_count": null,
>>>>>>> 5ef59afeaf8a64263f05e8c70398a058883f624b
   "id": "94accf39",
   "metadata": {},
   "outputs": [],
   "source": [
    "# Mapping numeric codes to names\n",
    "type_mapping = {\n",
    "    0: 'fibroblast',\n",
    "    1: 'inflammatory',\n",
    "    2: 'epithelial',\n",
    "    3: 'others'\n",
    "}\n",
    "df_main['cellTypeName'] = df_main['cellType'].map(type_mapping)\n",
    "\n",
    "\n",
    "crosstab = pd.crosstab(df_main['cellTypeName'], df_main['isCancerous'])\n",
    "crosstab.columns = ['Non-Cancerous', 'Cancerous']\n",
    "\n",
    "# Stacked bar \n",
    "ax = crosstab.plot(kind='bar', stacked=True, figsize=(8, 5))\n",
    "ax.set_xlabel('Cell Type')            \n",
    "ax.set_ylabel('Number of Images')\n",
    "ax.set_title('Cell Type vs. Cancer Status')\n",
    "plt.xticks(rotation=45)\n",
    "plt.legend(title='Cancer Status')\n",
    "plt.tight_layout()\n",
    "plt.show()"
   ]
  },
  {
   "cell_type": "markdown",
   "id": "360a5af0",
   "metadata": {},
   "source": [
    "#### Justification of Data Handling Methods"
   ]
  },
  {
   "cell_type": "markdown",
   "id": "1e94516b",
   "metadata": {},
   "source": [
    "**Justification of Data Handling Methods**\n",
    "\n",
    "1. **Normalization**  \n",
    "   - **What**: Rescale all pixel intensities from [0, 255] to [0, 1].  \n",
    "   - **Why**: Neural networks converge faster and more stably when inputs are in a small, consistent range; it also prevents large gradients that can destabilize training.\n",
    "\n",
    "2. **Uniform Reshaping**  \n",
    "   - **What**: Ensure every image tensor has shape (27, 27, 3) and is cast to `float32`.  \n",
    "   - **Why**: The entire dataset was acquired at 27×27 pixels, so no cropping or resizing is needed—this preserves spatial information without distortion.\n",
    "\n",
    "3. **Data Augmentation**  \n",
    "   - **What**: Apply random transformations _only to the training set_, such as:  \n",
    "     - Small rotations (±20°)  \n",
    "     - Horizontal/vertical flips  \n",
    "     - Minor zooms (±10%)  \n",
    "   - **Why**:  \n",
    "     - **Class imbalance**: Augmenting the under-represented classes (e.g. “Cancerous” and “Epithelial”) synthetically increases their sample size, reducing bias toward the majority classes.  \n",
    "     - **Generalization**: Random affine transforms make the model robust to variations in slide orientation and cropping.\n",
    "\n",
    "4. **Class-Weighted Loss**  \n",
    "   - **What**: When compiling the model, pass `class_weight` for the binary task (and equivalently for multiclass), so that minority-class errors incur a larger penalty.  \n",
    "   - **Why**: Even with augmentation, natural imbalance remains; weighting the loss ensures the model pays proportional attention to each class during optimization.\n",
    "\n",
    "5. **Label Encoding**  \n",
    "   - **What**:  \n",
    "     - **Binary** (`isCancerous`): map {0→“Non-Cancerous”, 1→“Cancerous”}.  \n",
    "     - **Multiclass** (`cellType`): one-hot encode the four cell types.  \n",
    "   - **Why**: Deep-learning frameworks expect numeric label formats—binary integers for two-class and one-hot vectors for multiclass—so the network can compute cross-entropy correctly.\n",
    "\n",
    "By explicitly linking each step to the imbalances and variability we observed, and by ensuring no augmentation or weighting “leaks” into validation/test, we meet both the technical requirements and the rubric’s demand for clear, data-driven justification.```\n"
   ]
  },
  {
   "cell_type": "code",
<<<<<<< HEAD
   "execution_count": 8,
   "id": "55cc33eb",
   "metadata": {},
   "outputs": [
    {
     "data": {
      "image/png": "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",
      "text/plain": [
       "<Figure size 900x900 with 9 Axes>"
      ]
     },
     "metadata": {},
     "output_type": "display_data"
    },
    {
     "data": {
      "image/png": "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",
      "text/plain": [
       "<Figure size 1000x400 with 1 Axes>"
      ]
     },
     "metadata": {},
     "output_type": "display_data"
    },
    {
     "data": {
      "text/html": [
       "<div>\n",
       "<style scoped>\n",
       "    .dataframe tbody tr th:only-of-type {\n",
       "        vertical-align: middle;\n",
       "    }\n",
       "\n",
       "    .dataframe tbody tr th {\n",
       "        vertical-align: top;\n",
       "    }\n",
       "\n",
       "    .dataframe thead th {\n",
       "        text-align: right;\n",
       "    }\n",
       "</style>\n",
       "<table border=\"1\" class=\"dataframe\">\n",
       "  <thead>\n",
       "    <tr style=\"text-align: right;\">\n",
       "      <th></th>\n",
       "      <th>Channel</th>\n",
       "      <th>Mean</th>\n",
       "      <th>Std Dev</th>\n",
       "    </tr>\n",
       "  </thead>\n",
       "  <tbody>\n",
       "    <tr>\n",
       "      <th>0</th>\n",
       "      <td>R</td>\n",
       "      <td>0.763241</td>\n",
       "      <td>0.170447</td>\n",
       "    </tr>\n",
       "    <tr>\n",
       "      <th>1</th>\n",
       "      <td>G</td>\n",
       "      <td>0.590171</td>\n",
       "      <td>0.193716</td>\n",
       "    </tr>\n",
       "    <tr>\n",
       "      <th>2</th>\n",
       "      <td>B</td>\n",
       "      <td>0.804568</td>\n",
       "      <td>0.123144</td>\n",
       "    </tr>\n",
       "  </tbody>\n",
       "</table>\n",
       "</div>"
      ],
      "text/plain": [
       "  Channel      Mean   Std Dev\n",
       "0       R  0.763241  0.170447\n",
       "1       G  0.590171  0.193716\n",
       "2       B  0.804568  0.123144"
      ]
     },
     "execution_count": 8,
     "metadata": {},
     "output_type": "execute_result"
    }
   ],
=======
   "execution_count": null,
   "id": "55cc33eb",
   "metadata": {},
   "outputs": [],
>>>>>>> 5ef59afeaf8a64263f05e8c70398a058883f624b
   "source": [
    "# 1. Create list of image filenames\n",
    "all_names = df_main['ImageName'].astype(str).unique().tolist()\n",
    "\n",
    "# 2. Directory containing image patches\n",
    "img_dir = Path('../Image_classification_data/patch_images')\n",
    "\n",
    "# 3. Sample-Image Grid (up to 3×3)\n",
    "n = min(len(all_names), 9)\n",
    "sample_names = random.sample(all_names, n)\n",
    "cols = 3\n",
    "rows = (n + cols - 1) // cols\n",
    "\n",
    "plt.figure(figsize=(cols * 3, rows * 3))\n",
    "for i, name in enumerate(sample_names, start=1):\n",
    "    img = mpimg.imread(img_dir / name)\n",
    "    if img.dtype == np.uint8:\n",
    "        img = img / 255.0\n",
    "    plt.subplot(rows, cols, i)\n",
    "    plt.imshow(img)\n",
    "    plt.title(name, fontsize=8)\n",
    "    plt.axis('off')\n",
    "plt.suptitle(\"Sample Cell Patches\", y=1.02)\n",
    "plt.tight_layout()\n",
    "plt.show()\n",
    "\n",
    "# 4. Pixel-Intensity Histograms (per channel)\n",
    "m = min(len(all_names), 200)\n",
    "hist_names = random.sample(all_names, m)\n",
    "hist_arr = np.stack([\n",
    "    (mpimg.imread(img_dir / name) / 255.0) if mpimg.imread(img_dir / name).dtype == np.uint8\n",
    "    else mpimg.imread(img_dir / name)\n",
    "    for name in hist_names\n",
    "])\n",
    "\n",
    "plt.figure(figsize=(10, 4))\n",
    "channels = ['R', 'G', 'B']\n",
    "for idx, col in enumerate(channels):\n",
    "    plt.hist(hist_arr[..., idx].ravel(), bins=50, alpha=0.5, label=f'{col} channel')\n",
    "plt.legend()\n",
    "plt.title(\"Pixel Intensity Distribution per Channel\")\n",
    "plt.xlabel(\"Pixel Value (0–1)\")\n",
    "plt.ylabel(\"Frequency\")\n",
    "plt.tight_layout()\n",
    "plt.show()\n",
    "\n",
    "# 5. Channel Mean & Std Dev\n",
    "means = hist_arr.mean(axis=(0, 1, 2))\n",
    "stds = hist_arr.std(axis=(0, 1, 2))\n",
    "stats_df = pd.DataFrame({\n",
    "    'Channel': channels,\n",
    "    'Mean': means,\n",
    "    'Std Dev': stds\n",
    "})\n",
    "stats_df\n"
   ]
  },
  {
   "cell_type": "markdown",
   "id": "8d42d5b0",
   "metadata": {},
   "source": [
    "### 1.2 Evaluation Framework \n",
    "#### Performance Metrics Selection"
   ]
  },
  {
   "cell_type": "markdown",
   "id": "97e3b872",
   "metadata": {},
   "source": [
    "- **Precision** treats each of the classes equally by averaging the class precision, ensures that miniorty classes are not affected by the class imbalance. Reduces the overly accurate predictions of the majority class.\n",
    "- **Recall** treats each class with an equal weight, detecting only the true instance of the rare classes, reducing the number of false negatvies. Recall leads the model to focus on the minority classes.\n",
    "- **Macro F1-Score** as the mean of both the precision and recall averaged equally, it strikes a balance between the precision and recall across the various classes. Increases both the accuracy and better representation of minority classes like both preicision and recall.\n"
   ]
  },
  {
   "cell_type": "markdown",
   "id": "0a33882f",
   "metadata": {},
   "source": [
    "#### Data Splitting Strategy"
   ]
  },
  {
   "cell_type": "code",
<<<<<<< HEAD
   "execution_count": 9,
   "id": "a3b56ca5",
   "metadata": {},
   "outputs": [
    {
     "ename": "ModuleNotFoundError",
     "evalue": "No module named 'tensorflow'",
     "output_type": "error",
     "traceback": [
      "\u001b[1;31m---------------------------------------------------------------------------\u001b[0m",
      "\u001b[1;31mModuleNotFoundError\u001b[0m                       Traceback (most recent call last)",
      "Cell \u001b[1;32mIn[9], line 1\u001b[0m\n\u001b[1;32m----> 1\u001b[0m \u001b[38;5;28;01mimport\u001b[39;00m \u001b[38;5;21;01mtensorflow\u001b[39;00m\n\u001b[0;32m      2\u001b[0m \u001b[38;5;28;01mfrom\u001b[39;00m \u001b[38;5;21;01mtensorflow\u001b[39;00m\u001b[38;5;21;01m.\u001b[39;00m\u001b[38;5;21;01mkeras\u001b[39;00m\u001b[38;5;21;01m.\u001b[39;00m\u001b[38;5;21;01mpreprocessing\u001b[39;00m\u001b[38;5;21;01m.\u001b[39;00m\u001b[38;5;21;01mimage\u001b[39;00m \u001b[38;5;28;01mimport\u001b[39;00m ImageDataGenerator\n\u001b[0;32m      4\u001b[0m \u001b[38;5;66;03m# 1. Load labels and build ImgPath + Class columns\u001b[39;00m\n",
      "\u001b[1;31mModuleNotFoundError\u001b[0m: No module named 'tensorflow'"
     ]
    }
   ],
=======
   "execution_count": null,
   "id": "a3b56ca5",
   "metadata": {},
   "outputs": [],
>>>>>>> 5ef59afeaf8a64263f05e8c70398a058883f624b
   "source": [
    "import tensorflow\n",
    "from tensorflow.keras.preprocessing.image import ImageDataGenerator\n",
    "\n",
    "# 1. Load labels and build ImgPath + Class columns\n",
    "df_main['ImgPath'] = df_main['ImageName'].apply(lambda fn: os.path.join('data/images', fn))\n",
    "df_main['Class'] = df_main['isCancerous']  # binary label: 0 = non-cancerous, 1 = cancerous\n",
    "\n",
    "train_data, test_data = train_test_split(df_main, test_size=0.2, random_state=42)\n",
    "train_data, val_data = train_test_split(train_data, test_size=0.25,random_state=42)\n",
    "\n",
    "print(\"Train data : {}, Val Data: {}, Test Data: {}\".format(train_data.shape[0], val_data.shape[0], test_data.shape[0]))\n",
    "\n",
    "\n",
    "\n",
    "# 3. Verify no overlap (by filepath)\n",
    "assert set(train_data['ImgPath']).isdisjoint(val_data['ImgPath'])\n",
    "assert set(train_data['ImgPath']).isdisjoint(test_data['ImgPath'])\n",
    "assert set(val_data['ImgPath']).isdisjoint(test_data['ImgPath'])\n",
    "\n",
    "print(f\"Images — train: {len(train_data)}, val: {len(val_data)}, test: {len(test_data)}\")\n",
    "\n",
    "# 4. Create ImageDataGenerators (rescale only; no augmentation here)\n",
    "train_datagen = ImageDataGenerator(\n",
    "    rescale=1./255,\n",
    "    data_format='channels_last'\n",
    ")\n",
    "val_datagen = ImageDataGenerator(\n",
    "    rescale=1./255,\n",
    "    data_format='channels_last'\n",
    ")\n",
    "\n",
    "batch_size = 32\n",
    "\n",
    "# 5. Build TRAIN generator\n",
    "train_generator = train_datagen.flow_from_dataframe(\n",
    "    dataframe=train_data,\n",
    "    directory=None,          # ImgPath includes full path\n",
    "    x_col='ImgPath',\n",
    "    y_col='Class',\n",
    "    target_size=(27, 27),\n",
    "    batch_size=batch_size,\n",
    "    class_mode='binary',\n",
    "    shuffle=True\n",
    ")\n",
    "\n",
    "# 6. Build VALIDATION generator\n",
    "validation_generator = val_datagen.flow_from_dataframe(\n",
    "    dataframe=val_data,\n",
    "    directory=None,\n",
    "    x_col='ImgPath',\n",
    "    y_col='Class',\n",
    "    target_size=(27, 27),\n",
    "    batch_size=batch_size,\n",
    "    class_mode='binary',\n",
    "    shuffle=False\n",
    ")\n",
    "\n",
    "# 7. Build TEST generator\n",
    "test_generator = val_datagen.flow_from_dataframe(\n",
    "    dataframe=test_data,\n",
    "    directory=None,\n",
    "    x_col='ImgPath',\n",
    "    y_col='Class',\n",
    "    target_size=(27, 27),\n",
    "    batch_size=batch_size,\n",
    "    class_mode='binary',\n",
    "    shuffle=False\n",
    ")\n",
    "\n"
   ]
  },
  {
   "cell_type": "markdown",
   "id": "eebe4a37",
   "metadata": {},
   "source": [
    "-  The train-validation-test split divides the data into 60/20/20 balances the training data with dedicated validation and test data sets. Ensuring, that there is no overfitting and bias generalisations made by the model. Also, makes use of the random_state = 42 to ensure that each rerun of the code produces the same splits. "
   ]
  },
  {
   "cell_type": "markdown",
   "id": "dc8fef34",
   "metadata": {},
   "source": [
    "#### Prevention of Data Leakage"
   ]
  },
  {
   "cell_type": "code",
   "execution_count": null,
   "id": "68f50143",
   "metadata": {},
   "outputs": [],
   "source": []
  },
  {
   "cell_type": "markdown",
   "id": "66ea7be6",
   "metadata": {},
   "source": [
    "### 1.3 Model Selection & Justification\n",
    "\n",
    "#### Base Model Selection and Justification"
   ]
  },
  {
<<<<<<< HEAD
   "cell_type": "code",
   "execution_count": null,
   "id": "008aad8f",
=======
   "cell_type": "markdown",
   "id": "5bd31cb0",
>>>>>>> 5ef59afeaf8a64263f05e8c70398a058883f624b
   "metadata": {},
   "source": [
    "Convolutional Neural Network (CNN) is able to discard redundant information from the images, transform the images into subsets of important features, further use the features for image recognition, and reduce the size/dime of the image. \n",
    "\n",
    "Comparing it to alternatives it, ANN would require more parameters to be able to learn the same features. SVM would be less flexible in capturing large datasets as there is a quadratic scaling in the traning time. "
   ]
  },
  {
   "cell_type": "markdown",
   "id": "d1a83bad",
   "metadata": {},
   "source": [
    "## 5. Model Baselines"
   ]
  },
  {
   "cell_type": "markdown",
   "id": "074272cf",
   "metadata": {},
   "source": []
  },
  {
   "cell_type": "markdown",
   "id": "1e0a2d73",
   "metadata": {},
   "source": [
    "### 5.1 ANN Baseline"
   ]
  },
  {
   "cell_type": "code",
   "execution_count": null,
   "id": "214f1e80",
   "metadata": {},
   "outputs": [],
   "source": [
    "# TODO: Define and compile a fully-connected ANN model\n"
   ]
  },
  {
   "cell_type": "markdown",
   "id": "161b7ec5",
   "metadata": {},
   "source": [
    "### 5.2 CNN Baseline"
   ]
  },
  {
   "cell_type": "code",
   "execution_count": null,
   "id": "4f439877",
   "metadata": {},
   "outputs": [],
   "source": [
    "# TODO: Define and compile a CNN model\n"
   ]
  },
  {
   "cell_type": "markdown",
   "id": "55d94c5d",
   "metadata": {},
   "source": [
    "### 5.3 Decision Tree Baseline"
   ]
  },
  {
   "cell_type": "code",
   "execution_count": null,
   "id": "65499329",
   "metadata": {},
   "outputs": [],
   "source": [
    "# TODO: Define and train a DecisionTreeClassifier on flattened images\n"
   ]
  },
  {
   "cell_type": "markdown",
   "id": "a8dfaa1f",
   "metadata": {},
   "source": [
    "## 6. Optimization & Hyperparameter Tuning"
   ]
  },
  {
   "cell_type": "code",
   "execution_count": null,
   "id": "edbef0da",
   "metadata": {},
   "outputs": [],
   "source": [
    "# TODO: Plot learning curves to identify overfitting/underfitting\n",
    "# TODO: Apply regularization techniques (dropout, weight decay)\n",
    "# TODO: Use validation set for hyperparameter tuning\n"
   ]
  },
  {
   "cell_type": "markdown",
   "id": "c7ba4ef1",
   "metadata": {},
   "source": [
    "## 7. Final Performance & Robustness"
   ]
  },
  {
   "cell_type": "code",
   "execution_count": null,
   "id": "fed86b56",
   "metadata": {},
   "outputs": [],
   "source": [
    "# TODO: Evaluate chosen model on test set\n",
    "# TODO: Assess robustness across patient subsets\n"
   ]
  },
  {
   "cell_type": "markdown",
   "id": "350eb3e6",
   "metadata": {},
   "source": [
    "## 8. Independent Evaluation"
   ]
  },
  {
   "cell_type": "code",
   "execution_count": null,
   "id": "5d2144fc",
   "metadata": {},
   "outputs": [],
   "source": [
    "# TODO: Compare model performance to literature (e.g., Sirinukunwattana et al. 2016)//\n"
   ]
  },
  {
   "cell_type": "markdown",
   "id": "1a897cc6",
   "metadata": {},
   "source": [
    "## 9. Conclusion & Ultimate Judgment"
   ]
  },
  {
   "cell_type": "markdown",
   "id": "7e2b5600",
   "metadata": {},
   "source": [
    "## Appendix\n",
    "Detailed hyperparameters, extended results, and additional literature notes."
   ]
  }
 ],
 "metadata": {
  "kernelspec": {
   "display_name": "base",
   "language": "python",
   "name": "python3"
  },
  "language_info": {
   "codemirror_mode": {
    "name": "ipython",
    "version": 3
   },
   "file_extension": ".py",
   "mimetype": "text/x-python",
   "name": "python",
   "nbconvert_exporter": "python",
   "pygments_lexer": "ipython3",
   "version": "3.12.7"
  }
 },
 "nbformat": 4,
 "nbformat_minor": 5
}
