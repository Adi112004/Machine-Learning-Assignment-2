{
 "cells": [
  {
   "cell_type": "markdown",
   "id": "a373ec86",
   "metadata": {},
   "source": [
    "# Assignment 2 Project A: Colon Cancer Image Classification"
   ]
  },
  {
   "cell_type": "markdown",
   "id": "4ee8b866",
   "metadata": {},
   "source": [
    "## Setup & Imports"
   ]
  },
  {
   "cell_type": "code",
<<<<<<< HEAD
   "execution_count": null,
=======
   "execution_count": 3,
>>>>>>> 6ce2d9b07fd83b9b98e3d8226d5a39ed48b3af3f
   "id": "3a5b1f06",
   "metadata": {},
   "outputs": [],
   "source": [
    "import os\n",
    "import numpy as np\n",
    "import pandas as pd\n",
    "import matplotlib.pyplot as plt\n",
    "from pathlib import Path\n",
    "\n",
    "# Directory paths\n",
    "main = '../Image_classification_data/data_labels_mainData.csv'\n",
    "extra = '../Image_classification_data/data_labels_extraData.csv'\n",
    "img_dir = '../Image_classification_data/patch_images'\n"
   ]
  },
  {
   "cell_type": "markdown",
   "id": "4d2fa016",
   "metadata": {},
   "source": [
    "## 1. Load & Inspect Labels\n",
    "### 1.1 Data Exploration and Understanding\n",
    "\n",
    "#### Class Imbalance Identification"
   ]
  },
  {
   "cell_type": "code",
<<<<<<< HEAD
   "execution_count": null,
=======
   "execution_count": 4,
>>>>>>> 6ce2d9b07fd83b9b98e3d8226d5a39ed48b3af3f
   "id": "94a82d66",
   "metadata": {},
   "outputs": [],
   "source": [
    "df_main = pd.read_csv(main)\n",
    "df_extra = pd.read_csv(extra)\n",
    "\n",
    "counts = df_main['isCancerous'].value_counts().sort_index()\n",
    "\n",
    "class_names = ['Non-Cancerous', 'Cancerous']\n",
    "counts.index = class_names\n",
    "\n",
    "plt.figure(figsize=(6, 4))\n",
    "bars = plt.bar(counts.index, counts.values)\n",
    "plt.title('Distribution of isCancerous Classes')\n",
    "plt.xlabel('Class')\n",
    "plt.ylabel('Number of Images')\n",
    "\n",
    "plt.tight_layout()\n",
    "plt.show()\n",
    "\n",
    "counts = df_main['cellTypeName'].value_counts().sort_index()\n",
    "\n",
    "plt.figure(figsize=(6, 4))\n",
    "bars = plt.bar(counts.index, counts.values)\n",
    "plt.title('Distribution of Cell Types')\n",
    "plt.xlabel('Cell Type')\n",
    "plt.ylabel('Number of Images')\n",
    "\n",
    "plt.tight_layout()\n",
    "plt.show()"
   ]
  },
  {
   "cell_type": "markdown",
   "id": "24eb4b54",
   "metadata": {},
   "source": [
    "- The above represents the class imbalances for isCancerous and cellTypeName, visualised through the bar graphs. The isCancerous class shows a clear imbalance in the count, as there are ~50% more non-cancerous compared to the cancerous.\n",
    "- As for the cell types there is a clear disparancy between the **epithelial** cells and the rest, having twice the count compared to **fibroblast** and **others**. Also, being ~60% greater than the **inflammatory** cell.\n",
    "- The difference in the count would lead to misleading accuracy towards the non-cancerous as it represents the majority of data and epithelial for the cell types. For data with fewer cases, models would tend to have low recall as there may not be enough information to be able to tell features apart leadning to worse generalisation.  \n",
    "\n"
   ]
  },
  {
   "cell_type": "markdown",
   "id": "2ce2f895",
   "metadata": {},
   "source": [
    "#### Exploratory Data Analysis (EDA)"
   ]
  },
  {
   "cell_type": "code",
<<<<<<< HEAD
   "execution_count": null,
   "id": "f824d617",
   "metadata": {},
   "outputs": [],
=======
   "execution_count": 5,
   "id": "f824d617",
   "metadata": {},
   "outputs": [
    {
     "data": {
      "text/html": [
       "<div>\n",
       "<style scoped>\n",
       "    .dataframe tbody tr th:only-of-type {\n",
       "        vertical-align: middle;\n",
       "    }\n",
       "\n",
       "    .dataframe tbody tr th {\n",
       "        vertical-align: top;\n",
       "    }\n",
       "\n",
       "    .dataframe thead th {\n",
       "        text-align: right;\n",
       "    }\n",
       "</style>\n",
       "<table border=\"1\" class=\"dataframe\">\n",
       "  <thead>\n",
       "    <tr style=\"text-align: right;\">\n",
       "      <th></th>\n",
       "      <th>InstanceID</th>\n",
       "      <th>patientID</th>\n",
       "      <th>ImageName</th>\n",
       "      <th>cellTypeName</th>\n",
       "      <th>cellType</th>\n",
       "      <th>isCancerous</th>\n",
       "    </tr>\n",
       "  </thead>\n",
       "  <tbody>\n",
       "    <tr>\n",
       "      <th>0</th>\n",
       "      <td>22405</td>\n",
       "      <td>1</td>\n",
       "      <td>22405.png</td>\n",
       "      <td>fibroblast</td>\n",
       "      <td>0</td>\n",
       "      <td>0</td>\n",
       "    </tr>\n",
       "    <tr>\n",
       "      <th>1</th>\n",
       "      <td>22406</td>\n",
       "      <td>1</td>\n",
       "      <td>22406.png</td>\n",
       "      <td>fibroblast</td>\n",
       "      <td>0</td>\n",
       "      <td>0</td>\n",
       "    </tr>\n",
       "    <tr>\n",
       "      <th>2</th>\n",
       "      <td>22407</td>\n",
       "      <td>1</td>\n",
       "      <td>22407.png</td>\n",
       "      <td>fibroblast</td>\n",
       "      <td>0</td>\n",
       "      <td>0</td>\n",
       "    </tr>\n",
       "    <tr>\n",
       "      <th>3</th>\n",
       "      <td>22408</td>\n",
       "      <td>1</td>\n",
       "      <td>22408.png</td>\n",
       "      <td>fibroblast</td>\n",
       "      <td>0</td>\n",
       "      <td>0</td>\n",
       "    </tr>\n",
       "    <tr>\n",
       "      <th>4</th>\n",
       "      <td>22409</td>\n",
       "      <td>1</td>\n",
       "      <td>22409.png</td>\n",
       "      <td>fibroblast</td>\n",
       "      <td>0</td>\n",
       "      <td>0</td>\n",
       "    </tr>\n",
       "  </tbody>\n",
       "</table>\n",
       "</div>"
      ],
      "text/plain": [
       "   InstanceID  patientID  ImageName cellTypeName  cellType  isCancerous\n",
       "0       22405          1  22405.png   fibroblast         0            0\n",
       "1       22406          1  22406.png   fibroblast         0            0\n",
       "2       22407          1  22407.png   fibroblast         0            0\n",
       "3       22408          1  22408.png   fibroblast         0            0\n",
       "4       22409          1  22409.png   fibroblast         0            0"
      ]
     },
     "execution_count": 5,
     "metadata": {},
     "output_type": "execute_result"
    }
   ],
>>>>>>> 6ce2d9b07fd83b9b98e3d8226d5a39ed48b3af3f
   "source": [
    "df_main.head()"
   ]
  },
  {
   "cell_type": "code",
<<<<<<< HEAD
   "execution_count": null,
=======
   "execution_count": 6,
>>>>>>> 6ce2d9b07fd83b9b98e3d8226d5a39ed48b3af3f
   "id": "3e1d13d9",
   "metadata": {},
   "outputs": [],
   "source": [
    "df_main.info()"
   ]
  },
  {
   "cell_type": "code",
<<<<<<< HEAD
   "execution_count": null,
   "id": "9c1f24c6",
   "metadata": {},
   "outputs": [],
=======
   "execution_count": 7,
   "id": "9c1f24c6",
   "metadata": {},
   "outputs": [
    {
     "data": {
      "text/html": [
       "<div>\n",
       "<style scoped>\n",
       "    .dataframe tbody tr th:only-of-type {\n",
       "        vertical-align: middle;\n",
       "    }\n",
       "\n",
       "    .dataframe tbody tr th {\n",
       "        vertical-align: top;\n",
       "    }\n",
       "\n",
       "    .dataframe thead th {\n",
       "        text-align: right;\n",
       "    }\n",
       "</style>\n",
       "<table border=\"1\" class=\"dataframe\">\n",
       "  <thead>\n",
       "    <tr style=\"text-align: right;\">\n",
       "      <th></th>\n",
       "      <th>InstanceID</th>\n",
       "      <th>patientID</th>\n",
       "      <th>ImageName</th>\n",
       "      <th>cellTypeName</th>\n",
       "      <th>cellType</th>\n",
       "      <th>isCancerous</th>\n",
       "    </tr>\n",
       "  </thead>\n",
       "  <tbody>\n",
       "    <tr>\n",
       "      <th>0</th>\n",
       "      <td>False</td>\n",
       "      <td>False</td>\n",
       "      <td>False</td>\n",
       "      <td>False</td>\n",
       "      <td>False</td>\n",
       "      <td>False</td>\n",
       "    </tr>\n",
       "    <tr>\n",
       "      <th>1</th>\n",
       "      <td>False</td>\n",
       "      <td>False</td>\n",
       "      <td>False</td>\n",
       "      <td>False</td>\n",
       "      <td>False</td>\n",
       "      <td>False</td>\n",
       "    </tr>\n",
       "    <tr>\n",
       "      <th>2</th>\n",
       "      <td>False</td>\n",
       "      <td>False</td>\n",
       "      <td>False</td>\n",
       "      <td>False</td>\n",
       "      <td>False</td>\n",
       "      <td>False</td>\n",
       "    </tr>\n",
       "    <tr>\n",
       "      <th>3</th>\n",
       "      <td>False</td>\n",
       "      <td>False</td>\n",
       "      <td>False</td>\n",
       "      <td>False</td>\n",
       "      <td>False</td>\n",
       "      <td>False</td>\n",
       "    </tr>\n",
       "    <tr>\n",
       "      <th>4</th>\n",
       "      <td>False</td>\n",
       "      <td>False</td>\n",
       "      <td>False</td>\n",
       "      <td>False</td>\n",
       "      <td>False</td>\n",
       "      <td>False</td>\n",
       "    </tr>\n",
       "    <tr>\n",
       "      <th>...</th>\n",
       "      <td>...</td>\n",
       "      <td>...</td>\n",
       "      <td>...</td>\n",
       "      <td>...</td>\n",
       "      <td>...</td>\n",
       "      <td>...</td>\n",
       "    </tr>\n",
       "    <tr>\n",
       "      <th>9891</th>\n",
       "      <td>False</td>\n",
       "      <td>False</td>\n",
       "      <td>False</td>\n",
       "      <td>False</td>\n",
       "      <td>False</td>\n",
       "      <td>False</td>\n",
       "    </tr>\n",
       "    <tr>\n",
       "      <th>9892</th>\n",
       "      <td>False</td>\n",
       "      <td>False</td>\n",
       "      <td>False</td>\n",
       "      <td>False</td>\n",
       "      <td>False</td>\n",
       "      <td>False</td>\n",
       "    </tr>\n",
       "    <tr>\n",
       "      <th>9893</th>\n",
       "      <td>False</td>\n",
       "      <td>False</td>\n",
       "      <td>False</td>\n",
       "      <td>False</td>\n",
       "      <td>False</td>\n",
       "      <td>False</td>\n",
       "    </tr>\n",
       "    <tr>\n",
       "      <th>9894</th>\n",
       "      <td>False</td>\n",
       "      <td>False</td>\n",
       "      <td>False</td>\n",
       "      <td>False</td>\n",
       "      <td>False</td>\n",
       "      <td>False</td>\n",
       "    </tr>\n",
       "    <tr>\n",
       "      <th>9895</th>\n",
       "      <td>False</td>\n",
       "      <td>False</td>\n",
       "      <td>False</td>\n",
       "      <td>False</td>\n",
       "      <td>False</td>\n",
       "      <td>False</td>\n",
       "    </tr>\n",
       "  </tbody>\n",
       "</table>\n",
       "<p>9896 rows × 6 columns</p>\n",
       "</div>"
      ],
      "text/plain": [
       "      InstanceID  patientID  ImageName  cellTypeName  cellType  isCancerous\n",
       "0          False      False      False         False     False        False\n",
       "1          False      False      False         False     False        False\n",
       "2          False      False      False         False     False        False\n",
       "3          False      False      False         False     False        False\n",
       "4          False      False      False         False     False        False\n",
       "...          ...        ...        ...           ...       ...          ...\n",
       "9891       False      False      False         False     False        False\n",
       "9892       False      False      False         False     False        False\n",
       "9893       False      False      False         False     False        False\n",
       "9894       False      False      False         False     False        False\n",
       "9895       False      False      False         False     False        False\n",
       "\n",
       "[9896 rows x 6 columns]"
      ]
     },
     "execution_count": 7,
     "metadata": {},
     "output_type": "execute_result"
    }
   ],
>>>>>>> 6ce2d9b07fd83b9b98e3d8226d5a39ed48b3af3f
   "source": [
    "df_main.isna()"
   ]
  },
  {
   "cell_type": "code",
<<<<<<< HEAD
   "execution_count": null,
=======
   "execution_count": 8,
>>>>>>> 6ce2d9b07fd83b9b98e3d8226d5a39ed48b3af3f
   "id": "010d10ba",
   "metadata": {},
   "outputs": [],
   "source": [
    "# --- Option 3: Images-Per-Patient Histogram ---\n",
    "\n",
    "counts_patient = df_main['patientID'].value_counts()\n",
    "\n",
    "plt.figure(figsize=(6, 4))\n",
    "plt.hist(counts_patient, bins=20, edgecolor='black')\n",
    "plt.title('Number of Patches per Patient')\n",
    "plt.xlabel('Number of Patches')\n",
    "plt.ylabel('Number of Patients')\n",
    "plt.tight_layout()\n",
    "plt.show()"
   ]
  },
  {
   "cell_type": "code",
<<<<<<< HEAD
   "execution_count": null,
=======
   "execution_count": 9,
>>>>>>> 6ce2d9b07fd83b9b98e3d8226d5a39ed48b3af3f
   "id": "94accf39",
   "metadata": {},
   "outputs": [],
   "source": [
    "# Build the crosstab\n",
    "crosstab = pd.crosstab(df_main['cellTypeName'], df_main['isCancerous'])\n",
    "crosstab.columns = ['Non-Cancerous', 'Cancerous']\n",
    "\n",
    "# Plot stacked bar with proper labels\n",
    "ax = crosstab.plot(kind='bar', stacked=True, figsize=(8, 5))\n",
    "ax.set_xlabel('Cell Type')            # Human-readable x-axis label\n",
    "ax.set_ylabel('Number of Images')\n",
    "ax.set_title('Cell Type vs. Cancer Status')\n",
    "plt.xticks(rotation=45)\n",
    "plt.legend(title='Cancer Status')\n",
    "plt.tight_layout()\n",
    "plt.show()"
   ]
  },
  {
   "cell_type": "markdown",
   "id": "360a5af0",
   "metadata": {},
   "source": [
    "#### Justification of Data Handling Methods"
   ]
  },
  {
   "cell_type": "markdown",
   "id": "1e94516b",
   "metadata": {},
   "source": [
    "**Justification of Data Handling Methods**\n",
    "\n",
    "1. **Normalization**  \n",
    "   - **What**: Rescale all pixel intensities from [0, 255] to [0, 1].  \n",
    "   - **Why**: Neural networks converge faster and more stably when inputs are in a small, consistent range; it also prevents large gradients that can destabilize training.\n",
    "\n",
    "2. **Uniform Reshaping**  \n",
    "   - **What**: Ensure every image tensor has shape (27, 27, 3) and is cast to `float32`.  \n",
    "   - **Why**: The entire dataset was acquired at 27×27 pixels, so no cropping or resizing is needed—this preserves spatial information without distortion.\n",
    "\n",
    "3. **Data Augmentation**  \n",
    "   - **What**: Apply random transformations _only to the training set_, such as:  \n",
    "     - Small rotations (±20°)  \n",
    "     - Horizontal/vertical flips  \n",
    "     - Minor zooms (±10%)  \n",
    "   - **Why**:  \n",
    "     - **Class imbalance**: Augmenting the under-represented classes (e.g. “Cancerous” and “Epithelial”) synthetically increases their sample size, reducing bias toward the majority classes.  \n",
    "     - **Generalization**: Random affine transforms make the model robust to variations in slide orientation and cropping.\n",
    "\n",
    "4. **Class-Weighted Loss**  \n",
    "   - **What**: When compiling the model, pass `class_weight` for the binary task (and equivalently for multiclass), so that minority-class errors incur a larger penalty.  \n",
    "   - **Why**: Even with augmentation, natural imbalance remains; weighting the loss ensures the model pays proportional attention to each class during optimization.\n",
    "\n",
    "5. **Label Encoding**  \n",
    "   - **What**:  \n",
    "     - **Binary** (`isCancerous`): map {0→“Non-Cancerous”, 1→“Cancerous”}.  \n",
    "     - **Multiclass** (`cellType`): one-hot encode the four cell types.  \n",
    "   - **Why**: Deep-learning frameworks expect numeric label formats—binary integers for two-class and one-hot vectors for multiclass—so the network can compute cross-entropy correctly.\n",
    "\n",
    "By explicitly linking each step to the imbalances and variability we observed, and by ensuring no augmentation or weighting “leaks” into validation/test, we meet both the technical requirements and the rubric’s demand for clear, data-driven justification.```\n"
   ]
  },
  {
   "cell_type": "code",
   "execution_count": 11,
   "id": "55cc33eb",
   "metadata": {},
   "outputs": [
    {
     "data": {
      "image/png": "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",
      "text/plain": [
       "<Figure size 900x900 with 9 Axes>"
      ]
     },
     "metadata": {},
     "output_type": "display_data"
    },
    {
     "data": {
      "image/png": "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",
      "text/plain": [
       "<Figure size 1000x400 with 1 Axes>"
      ]
     },
     "metadata": {},
     "output_type": "display_data"
    },
    {
     "data": {
      "text/html": [
       "<div>\n",
       "<style scoped>\n",
       "    .dataframe tbody tr th:only-of-type {\n",
       "        vertical-align: middle;\n",
       "    }\n",
       "\n",
       "    .dataframe tbody tr th {\n",
       "        vertical-align: top;\n",
       "    }\n",
       "\n",
       "    .dataframe thead th {\n",
       "        text-align: right;\n",
       "    }\n",
       "</style>\n",
       "<table border=\"1\" class=\"dataframe\">\n",
       "  <thead>\n",
       "    <tr style=\"text-align: right;\">\n",
       "      <th></th>\n",
       "      <th>Channel</th>\n",
       "      <th>Mean</th>\n",
       "      <th>Std Dev</th>\n",
       "    </tr>\n",
       "  </thead>\n",
       "  <tbody>\n",
       "    <tr>\n",
       "      <th>0</th>\n",
       "      <td>R</td>\n",
       "      <td>0.753559</td>\n",
       "      <td>0.173768</td>\n",
       "    </tr>\n",
       "    <tr>\n",
       "      <th>1</th>\n",
       "      <td>G</td>\n",
       "      <td>0.583020</td>\n",
       "      <td>0.195935</td>\n",
       "    </tr>\n",
       "    <tr>\n",
       "      <th>2</th>\n",
       "      <td>B</td>\n",
       "      <td>0.803561</td>\n",
       "      <td>0.124292</td>\n",
       "    </tr>\n",
       "  </tbody>\n",
       "</table>\n",
       "</div>"
      ],
      "text/plain": [
       "  Channel      Mean   Std Dev\n",
       "0       R  0.753559  0.173768\n",
       "1       G  0.583020  0.195935\n",
       "2       B  0.803561  0.124292"
      ]
     },
     "execution_count": 11,
     "metadata": {},
     "output_type": "execute_result"
    }
   ],
   "source": [
    "\n",
    "import pandas as pd\n",
    "import matplotlib.pyplot as plt\n",
    "import matplotlib.image as mpimg\n",
    "import numpy as np\n",
    "import random\n",
    "from pathlib import Path\n",
    "# 1. Create list of image filenames\n",
    "all_names = df_main['ImageName'].astype(str).unique().tolist()\n",
    "\n",
    "# 2. Directory containing image patches\n",
    "img_dir = Path('../Image_classification_data/patch_images')\n",
    "\n",
    "# 3. Sample-Image Grid (up to 3×3)\n",
    "n = min(len(all_names), 9)\n",
    "sample_names = random.sample(all_names, n)\n",
    "cols = 3\n",
    "rows = (n + cols - 1) // cols\n",
    "\n",
    "plt.figure(figsize=(cols * 3, rows * 3))\n",
    "for i, name in enumerate(sample_names, start=1):\n",
    "    img = mpimg.imread(img_dir / name)\n",
    "    if img.dtype == np.uint8:\n",
    "        img = img / 255.0\n",
    "    plt.subplot(rows, cols, i)\n",
    "    plt.imshow(img)\n",
    "    plt.title(name, fontsize=8)\n",
    "    plt.axis('off')\n",
    "plt.suptitle(\"Sample Cell Patches\", y=1.02)\n",
    "plt.tight_layout()\n",
    "plt.show()\n",
    "\n",
    "# 4. Pixel-Intensity Histograms (per channel)\n",
    "m = min(len(all_names), 200)\n",
    "hist_names = random.sample(all_names, m)\n",
    "hist_arr = np.stack([\n",
    "    (mpimg.imread(img_dir / name) / 255.0) if mpimg.imread(img_dir / name).dtype == np.uint8\n",
    "    else mpimg.imread(img_dir / name)\n",
    "    for name in hist_names\n",
    "])\n",
    "\n",
    "plt.figure(figsize=(10, 4))\n",
    "channels = ['R', 'G', 'B']\n",
    "for idx, col in enumerate(channels):\n",
    "    plt.hist(hist_arr[..., idx].ravel(), bins=50, alpha=0.5, label=f'{col} channel')\n",
    "plt.legend()\n",
    "plt.title(\"Pixel Intensity Distribution per Channel\")\n",
    "plt.xlabel(\"Pixel Value (0–1)\")\n",
    "plt.ylabel(\"Frequency\")\n",
    "plt.tight_layout()\n",
    "plt.show()\n",
    "\n",
    "# 5. Channel Mean & Std Dev\n",
    "means = hist_arr.mean(axis=(0, 1, 2))\n",
    "stds = hist_arr.std(axis=(0, 1, 2))\n",
    "stats_df = pd.DataFrame({\n",
    "    'Channel': channels,\n",
    "    'Mean': means,\n",
    "    'Std Dev': stds\n",
    "})\n",
    "stats_df\n"
   ]
  },
  {
   "cell_type": "markdown",
   "id": "8d42d5b0",
   "metadata": {},
   "source": [
    "### 1.2 Evaluation Framework \n",
    "#### Performance Metrics Selection"
   ]
  },
  {
   "cell_type": "markdown",
   "id": "97e3b872",
   "metadata": {},
   "source": [
    "- Macro F1-Score as "
   ]
  },
  {
   "cell_type": "code",
   "execution_count": null,
   "id": "a3b56ca5",
   "metadata": {},
   "outputs": [],
   "source": [
    "# TODO: Visualize class imbalance for 'isCancerous'\n",
    "# TODO: Visualize multiclass distribution for 'cellTypeName'\n",
    "# TODO: Display sample images from each class\n"
   ]
  },
  {
   "cell_type": "markdown",
   "id": "66ea7be6",
   "metadata": {},
   "source": [
    "## 4. Evaluation Framework"
   ]
  },
  {
   "cell_type": "code",
   "execution_count": null,
   "id": "008aad8f",
   "metadata": {},
   "outputs": [],
   "source": [
    "# TODO: Split data by patient into train/val/test\n",
    "# Ensure no leakage across splits\n",
    "# TODO: Define evaluation metrics (e.g., macro-F1, precision, recall)\n"
   ]
  },
  {
   "cell_type": "markdown",
   "id": "d1a83bad",
   "metadata": {},
   "source": [
    "## 5. Model Baselines"
   ]
  },
  {
   "cell_type": "markdown",
   "id": "1e0a2d73",
   "metadata": {},
   "source": [
    "### 5.1 ANN Baseline"
   ]
  },
  {
   "cell_type": "code",
   "execution_count": null,
   "id": "214f1e80",
   "metadata": {},
   "outputs": [],
   "source": [
    "# TODO: Define and compile a fully-connected ANN model\n"
   ]
  },
  {
   "cell_type": "markdown",
   "id": "161b7ec5",
   "metadata": {},
   "source": [
    "### 5.2 CNN Baseline"
   ]
  },
  {
   "cell_type": "code",
   "execution_count": null,
   "id": "4f439877",
   "metadata": {},
   "outputs": [],
   "source": [
    "# TODO: Define and compile a CNN model\n"
   ]
  },
  {
   "cell_type": "markdown",
   "id": "55d94c5d",
   "metadata": {},
   "source": [
    "### 5.3 Decision Tree Baseline"
   ]
  },
  {
   "cell_type": "code",
   "execution_count": null,
   "id": "65499329",
   "metadata": {},
   "outputs": [],
   "source": [
    "# TODO: Define and train a DecisionTreeClassifier on flattened images\n"
   ]
  },
  {
   "cell_type": "markdown",
   "id": "a8dfaa1f",
   "metadata": {},
   "source": [
    "## 6. Optimization & Hyperparameter Tuning"
   ]
  },
  {
   "cell_type": "code",
   "execution_count": null,
   "id": "edbef0da",
   "metadata": {},
   "outputs": [],
   "source": [
    "# TODO: Plot learning curves to identify overfitting/underfitting\n",
    "# TODO: Apply regularization techniques (dropout, weight decay)\n",
    "# TODO: Use validation set for hyperparameter tuning\n"
   ]
  },
  {
   "cell_type": "markdown",
   "id": "c7ba4ef1",
   "metadata": {},
   "source": [
    "## 7. Final Performance & Robustness"
   ]
  },
  {
   "cell_type": "code",
   "execution_count": null,
   "id": "fed86b56",
   "metadata": {},
   "outputs": [],
   "source": [
    "# TODO: Evaluate chosen model on test set\n",
    "# TODO: Assess robustness across patient subsets\n"
   ]
  },
  {
   "cell_type": "markdown",
   "id": "350eb3e6",
   "metadata": {},
   "source": [
    "## 8. Independent Evaluation"
   ]
  },
  {
   "cell_type": "code",
   "execution_count": null,
   "id": "5d2144fc",
   "metadata": {},
   "outputs": [],
   "source": [
    "# TODO: Compare model performance to literature (e.g., Sirinukunwattana et al. 2016)//\n"
   ]
  },
  {
   "cell_type": "markdown",
   "id": "1a897cc6",
   "metadata": {},
   "source": [
    "## 9. Conclusion & Ultimate Judgment"
   ]
  },
  {
   "cell_type": "markdown",
   "id": "7e2b5600",
   "metadata": {},
   "source": [
    "## Appendix\n",
    "Detailed hyperparameters, extended results, and additional literature notes."
   ]
  }
 ],
 "metadata": {
  "kernelspec": {
   "display_name": "base",
   "language": "python",
   "name": "python3"
  },
  "language_info": {
   "codemirror_mode": {
    "name": "ipython",
    "version": 3
   },
   "file_extension": ".py",
   "mimetype": "text/x-python",
   "name": "python",
   "nbconvert_exporter": "python",
   "pygments_lexer": "ipython3",
   "version": "3.12.7"
  }
 },
 "nbformat": 4,
 "nbformat_minor": 5
}
