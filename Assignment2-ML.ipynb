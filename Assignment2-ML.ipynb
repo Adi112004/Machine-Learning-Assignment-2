{
 "cells": [
  {
   "cell_type": "markdown",
   "id": "a373ec86",
   "metadata": {},
   "source": [
    "# Assignment 2 Project A: Colon Cancer Image Classification"
   ]
  },
  {
   "cell_type": "markdown",
   "id": "4ee8b866",
   "metadata": {},
   "source": [
    "## Setup & Imports"
   ]
  },
  {
   "cell_type": "code",
   "execution_count": null,
   "id": "3a5b1f06",
   "metadata": {},
   "outputs": [],
   "source": [
    "import os\n",
    "import numpy as np\n",
    "import pandas as pd\n",
    "import matplotlib.pyplot as plt\n",
    "from pathlib import Path\n",
    "\n",
    "# Directory paths\n",
    "main = '../Image_classification_data/data_labels_mainData.csv'\n",
    "extra = '../Image_classification_data/data_labels_extraData.csv'\n",
    "img_dir = '../Image_classification_data/patch_images'\n"
   ]
  },
  {
   "cell_type": "markdown",
   "id": "4d2fa016",
   "metadata": {},
   "source": [
    "## 1. Load & Inspect Labels\n",
    "### 1.1 Data Exploration and Understanding\n",
    "\n",
    "#### Class Imbalance Identification"
   ]
  },
  {
   "cell_type": "code",
   "execution_count": null,
   "id": "94a82d66",
   "metadata": {},
   "outputs": [],
   "source": [
    "df_main = pd.read_csv(main)\n",
    "df_extra = pd.read_csv(extra)\n",
    "\n",
    "counts = df_main['isCancerous'].value_counts().sort_index()\n",
    "\n",
    "class_names = ['Non-Cancerous', 'Cancerous']\n",
    "counts.index = class_names\n",
    "\n",
    "plt.figure(figsize=(6, 4))\n",
    "bars = plt.bar(counts.index, counts.values)\n",
    "plt.title('Distribution of isCancerous Classes')\n",
    "plt.xlabel('Class')\n",
    "plt.ylabel('Number of Images')\n",
    "\n",
    "plt.tight_layout()\n",
    "plt.show()\n",
    "\n",
    "counts = df_main['cellTypeName'].value_counts().sort_index()\n",
    "\n",
    "plt.figure(figsize=(6, 4))\n",
    "bars = plt.bar(counts.index, counts.values)\n",
    "plt.title('Distribution of Cell Types')\n",
    "plt.xlabel('Cell Type')\n",
    "plt.ylabel('Number of Images')\n",
    "\n",
    "plt.tight_layout()\n",
    "plt.show()"
   ]
  },
  {
   "cell_type": "markdown",
   "id": "24eb4b54",
   "metadata": {},
   "source": [
    "- The above represents the class imbalances for isCancerous and cellTypeName, visualised through the bar graphs. The isCancerous class shows a clear imbalance in the count, as there are ~50% more non-cancerous compared to the cancerous.\n",
    "- As for the cell types there is a clear disparancy between the **epithelial** cells and the rest, having twice the count compared to **fibroblast** and **others**. Also, being ~60% greater than the **inflammatory** cell.\n",
    "- The difference in the count would lead to misleading accuracy towards the non-cancerous as it represents the majority of data and epithelial for the cell types. For data with fewer cases, models would tend to have low recall as there may not be enough information to be able to tell features apart leadning to worse generalisation.  \n",
    "\n"
   ]
  },
  {
   "cell_type": "markdown",
   "id": "2ce2f895",
   "metadata": {},
   "source": [
    "#### Exploratory Data Analysis (EDA)"
   ]
  },
  {
   "cell_type": "code",
   "execution_count": null,
   "id": "f824d617",
   "metadata": {},
   "outputs": [],
   "source": [
    "df_main.head()"
   ]
  },
  {
   "cell_type": "code",
   "execution_count": null,
   "id": "3e1d13d9",
   "metadata": {},
   "outputs": [],
   "source": [
    "df_main.info()"
   ]
  },
  {
   "cell_type": "code",
   "execution_count": null,
   "id": "9c1f24c6",
   "metadata": {},
   "outputs": [],
   "source": [
    "df_main.isna()"
   ]
  },
  {
   "cell_type": "code",
   "execution_count": null,
   "id": "010d10ba",
   "metadata": {},
   "outputs": [],
   "source": [
    "# --- Option 3: Images-Per-Patient Histogram ---\n",
    "\n",
    "counts_patient = df_main['patientID'].value_counts()\n",
    "\n",
    "plt.figure(figsize=(6, 4))\n",
    "plt.hist(counts_patient, bins=20, edgecolor='black')\n",
    "plt.title('Number of Patches per Patient')\n",
    "plt.xlabel('Number of Patches')\n",
    "plt.ylabel('Number of Patients')\n",
    "plt.tight_layout()\n",
    "plt.show()"
   ]
  },
  {
   "cell_type": "code",
   "execution_count": null,
   "id": "94accf39",
   "metadata": {},
   "outputs": [],
   "source": [
    "# Build the crosstab\n",
    "crosstab = pd.crosstab(df_main['cellTypeName'], df_main['isCancerous'])\n",
    "crosstab.columns = ['Non-Cancerous', 'Cancerous']\n",
    "\n",
    "# Plot stacked bar with proper labels\n",
    "ax = crosstab.plot(kind='bar', stacked=True, figsize=(8, 5))\n",
    "ax.set_xlabel('Cell Type')            # Human-readable x-axis label\n",
    "ax.set_ylabel('Number of Images')\n",
    "ax.set_title('Cell Type vs. Cancer Status')\n",
    "plt.xticks(rotation=45)\n",
    "plt.legend(title='Cancer Status')\n",
    "plt.tight_layout()\n",
    "plt.show()"
   ]
  },
  {
   "cell_type": "markdown",
   "id": "360a5af0",
   "metadata": {},
   "source": [
    "#### Justification of Data Handling Methods"
   ]
  },
  {
   "cell_type": "markdown",
   "id": "8d42d5b0",
   "metadata": {},
   "source": [
    "### 1.2 Evaluation Framework \n",
    "#### Performance Metrics Selection"
   ]
  },
  {
   "cell_type": "markdown",
   "id": "97e3b872",
   "metadata": {},
   "source": [
    "- Macro F1-Score as "
   ]
  },
  {
   "cell_type": "code",
   "execution_count": null,
   "id": "a3b56ca5",
   "metadata": {},
   "outputs": [],
   "source": [
    "# TODO: Visualize class imbalance for 'isCancerous'\n",
    "# TODO: Visualize multiclass distribution for 'cellTypeName'\n",
    "# TODO: Display sample images from each class\n"
   ]
  },
  {
   "cell_type": "markdown",
   "id": "66ea7be6",
   "metadata": {},
   "source": [
    "## 4. Evaluation Framework"
   ]
  },
  {
   "cell_type": "code",
   "execution_count": null,
   "id": "008aad8f",
   "metadata": {},
   "outputs": [],
   "source": [
    "# TODO: Split data by patient into train/val/test\n",
    "# Ensure no leakage across splits\n",
    "# TODO: Define evaluation metrics (e.g., macro-F1, precision, recall)\n"
   ]
  },
  {
   "cell_type": "markdown",
   "id": "d1a83bad",
   "metadata": {},
   "source": [
    "## 5. Model Baselines"
   ]
  },
  {
   "cell_type": "markdown",
   "id": "1e0a2d73",
   "metadata": {},
   "source": [
    "### 5.1 ANN Baseline"
   ]
  },
  {
   "cell_type": "code",
   "execution_count": null,
   "id": "214f1e80",
   "metadata": {},
   "outputs": [],
   "source": [
    "# TODO: Define and compile a fully-connected ANN model\n"
   ]
  },
  {
   "cell_type": "markdown",
   "id": "161b7ec5",
   "metadata": {},
   "source": [
    "### 5.2 CNN Baseline"
   ]
  },
  {
   "cell_type": "code",
   "execution_count": null,
   "id": "4f439877",
   "metadata": {},
   "outputs": [],
   "source": [
    "# TODO: Define and compile a CNN model\n"
   ]
  },
  {
   "cell_type": "markdown",
   "id": "55d94c5d",
   "metadata": {},
   "source": [
    "### 5.3 Decision Tree Baseline"
   ]
  },
  {
   "cell_type": "code",
   "execution_count": null,
   "id": "65499329",
   "metadata": {},
   "outputs": [],
   "source": [
    "# TODO: Define and train a DecisionTreeClassifier on flattened images\n"
   ]
  },
  {
   "cell_type": "markdown",
   "id": "a8dfaa1f",
   "metadata": {},
   "source": [
    "## 6. Optimization & Hyperparameter Tuning"
   ]
  },
  {
   "cell_type": "code",
   "execution_count": null,
   "id": "edbef0da",
   "metadata": {},
   "outputs": [],
   "source": [
    "# TODO: Plot learning curves to identify overfitting/underfitting\n",
    "# TODO: Apply regularization techniques (dropout, weight decay)\n",
    "# TODO: Use validation set for hyperparameter tuning\n"
   ]
  },
  {
   "cell_type": "markdown",
   "id": "c7ba4ef1",
   "metadata": {},
   "source": [
    "## 7. Final Performance & Robustness"
   ]
  },
  {
   "cell_type": "code",
   "execution_count": null,
   "id": "fed86b56",
   "metadata": {},
   "outputs": [],
   "source": [
    "# TODO: Evaluate chosen model on test set\n",
    "# TODO: Assess robustness across patient subsets\n"
   ]
  },
  {
   "cell_type": "markdown",
   "id": "350eb3e6",
   "metadata": {},
   "source": [
    "## 8. Independent Evaluation"
   ]
  },
  {
   "cell_type": "code",
   "execution_count": null,
   "id": "5d2144fc",
   "metadata": {},
   "outputs": [],
   "source": [
    "# TODO: Compare model performance to literature (e.g., Sirinukunwattana et al. 2016)//\n"
   ]
  },
  {
   "cell_type": "markdown",
   "id": "1a897cc6",
   "metadata": {},
   "source": [
    "## 9. Conclusion & Ultimate Judgment"
   ]
  },
  {
   "cell_type": "markdown",
   "id": "7e2b5600",
   "metadata": {},
   "source": [
    "## Appendix\n",
    "Detailed hyperparameters, extended results, and additional literature notes."
   ]
  }
 ],
 "metadata": {
  "kernelspec": {
   "display_name": "base",
   "language": "python",
   "name": "python3"
  },
  "language_info": {
   "codemirror_mode": {
    "name": "ipython",
    "version": 3
   },
   "file_extension": ".py",
   "mimetype": "text/x-python",
   "name": "python",
   "nbconvert_exporter": "python",
   "pygments_lexer": "ipython3",
   "version": "3.12.7"
  }
 },
 "nbformat": 4,
 "nbformat_minor": 5
}
