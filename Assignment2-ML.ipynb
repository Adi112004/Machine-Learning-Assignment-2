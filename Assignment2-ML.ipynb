{
 "cells": [
  {
   "cell_type": "markdown",
   "id": "a373ec86",
   "metadata": {},
   "source": [
    "# Assignment 2: Colon Cancer Image Classification\n",
    "This notebook contains the end-to-end pipeline for designing, training, and evaluating models for classifying histopathology images of colon cells as cancerous vs. non-cancerous and by cell type."
   ]
  },
  {
   "cell_type": "markdown",
   "id": "4ee8b866",
   "metadata": {},
   "source": [
    "## 1. Setup & Imports"
   ]
  },
  {
   "cell_type": "code",
   "execution_count": null,
   "id": "3a5b1f06",
   "metadata": {},
   "outputs": [],
   "source": [
    "import os\n",
    "import numpy as np\n",
    "import pandas as pd\n",
    "import tensorflow as tf\n",
    "from tensorflow import keras\n",
    "import matplotlib.pyplot as plt\n",
    "from pathlib import Path\n",
    "\n",
    "# Directory paths\n",
    "LABELS_MAIN = 'data/data_labels_mainData.csv'\n",
    "LABELS_EXTRA = '.\\Image_classification_data\\data_labels_extraData.csv\"'\n",
    "IMG_DIR = 'data/patch_images'\n"
   ]
  },
  {
   "cell_type": "markdown",
   "id": "4d2fa016",
   "metadata": {},
   "source": [
    "## 2. Load & Inspect Labels"
   ]
  },
  {
   "cell_type": "code",
   "execution_count": null,
   "id": "94a82d66",
   "metadata": {},
   "outputs": [],
   "source": [
    "df_main = pd.read_csv(LABELS_MAIN)\n",
    "df_extra = pd.read_csv(LABELS_EXTRA)\n",
    "print('Main labels shape:', df_main.shape)\n",
    "print(df_main.head())\n",
    "print('\\nExtra labels shape:', df_extra.shape)\n",
    "print(df_extra.head())\n"
   ]
  },
  {
   "cell_type": "markdown",
   "id": "8d42d5b0",
   "metadata": {},
   "source": [
    "## 3. Data Exploration & Understanding"
   ]
  },
  {
   "cell_type": "code",
   "execution_count": null,
   "id": "a3b56ca5",
   "metadata": {},
   "outputs": [],
   "source": [
    "# TODO: Visualize class imbalance for 'isCancerous'\n",
    "# TODO: Visualize multiclass distribution for 'cellTypeName'\n",
    "# TODO: Display sample images from each class\n"
   ]
  },
  {
   "cell_type": "markdown",
   "id": "66ea7be6",
   "metadata": {},
   "source": [
    "## 4. Evaluation Framework"
   ]
  },
  {
   "cell_type": "code",
   "execution_count": null,
   "id": "008aad8f",
   "metadata": {},
   "outputs": [],
   "source": [
    "# TODO: Split data by patient into train/val/test\n",
    "# Ensure no leakage across splits\n",
    "# TODO: Define evaluation metrics (e.g., macro-F1, precision, recall)\n"
   ]
  },
  {
   "cell_type": "markdown",
   "id": "d1a83bad",
   "metadata": {},
   "source": [
    "## 5. Model Baselines"
   ]
  },
  {
   "cell_type": "markdown",
   "id": "1e0a2d73",
   "metadata": {},
   "source": [
    "### 5.1 ANN Baseline"
   ]
  },
  {
   "cell_type": "code",
   "execution_count": null,
   "id": "214f1e80",
   "metadata": {},
   "outputs": [],
   "source": [
    "# TODO: Define and compile a fully-connected ANN model\n"
   ]
  },
  {
   "cell_type": "markdown",
   "id": "161b7ec5",
   "metadata": {},
   "source": [
    "### 5.2 CNN Baseline"
   ]
  },
  {
   "cell_type": "code",
   "execution_count": null,
   "id": "4f439877",
   "metadata": {},
   "outputs": [],
   "source": [
    "# TODO: Define and compile a CNN model\n"
   ]
  },
  {
   "cell_type": "markdown",
   "id": "55d94c5d",
   "metadata": {},
   "source": [
    "### 5.3 Decision Tree Baseline"
   ]
  },
  {
   "cell_type": "code",
   "execution_count": null,
   "id": "65499329",
   "metadata": {},
   "outputs": [],
   "source": [
    "# TODO: Define and train a DecisionTreeClassifier on flattened images\n"
   ]
  },
  {
   "cell_type": "markdown",
   "id": "a8dfaa1f",
   "metadata": {},
   "source": [
    "## 6. Optimization & Hyperparameter Tuning"
   ]
  },
  {
   "cell_type": "code",
   "execution_count": null,
   "id": "edbef0da",
   "metadata": {},
   "outputs": [],
   "source": [
    "# TODO: Plot learning curves to identify overfitting/underfitting\n",
    "# TODO: Apply regularization techniques (dropout, weight decay)\n",
    "# TODO: Use validation set for hyperparameter tuning\n"
   ]
  },
  {
   "cell_type": "markdown",
   "id": "c7ba4ef1",
   "metadata": {},
   "source": [
    "## 7. Final Performance & Robustness"
   ]
  },
  {
   "cell_type": "code",
   "execution_count": null,
   "id": "fed86b56",
   "metadata": {},
   "outputs": [],
   "source": [
    "# TODO: Evaluate chosen model on test set\n",
    "# TODO: Assess robustness across patient subsets\n"
   ]
  },
  {
   "cell_type": "markdown",
   "id": "350eb3e6",
   "metadata": {},
   "source": [
    "## 8. Independent Evaluation"
   ]
  },
  {
   "cell_type": "code",
   "execution_count": null,
   "id": "5d2144fc",
   "metadata": {},
   "outputs": [],
   "source": [
    "# TODO: Compare model performance to literature (e.g., Sirinukunwattana et al. 2016)\n"
   ]
  },
  {
   "cell_type": "markdown",
   "id": "1a897cc6",
   "metadata": {},
   "source": [
    "## 9. Conclusion & Ultimate Judgment"
   ]
  },
  {
   "cell_type": "markdown",
   "id": "7e2b5600",
   "metadata": {},
   "source": [
    "## Appendix\n",
    "Detailed hyperparameters, extended results, and additional literature notes."
   ]
  }
 ],
 "metadata": {
  "kernelspec": {
   "display_name": "Python [conda env:base] *",
   "language": "python",
   "name": "conda-base-py"
  },
  "language_info": {
   "codemirror_mode": {
    "name": "ipython",
    "version": 3
   },
   "file_extension": ".py",
   "mimetype": "text/x-python",
   "name": "python",
   "nbconvert_exporter": "python",
   "pygments_lexer": "ipython3",
   "version": "3.12.7"
  }
 },
 "nbformat": 4,
 "nbformat_minor": 5
}
