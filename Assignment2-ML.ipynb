{
 "cells": [
  {
   "cell_type": "markdown",
   "id": "a373ec86",
   "metadata": {},
   "source": [
    "# Assignment 2 Project A: Colon Cancer Image Classification"
   ]
  },
  {
   "cell_type": "markdown",
   "id": "4ee8b866",
   "metadata": {},
   "source": [
    "## Setup & Imports"
   ]
  },
  {
   "cell_type": "code",
   "execution_count": 173,
   "id": "3a5b1f06",
   "metadata": {},
   "outputs": [],
   "source": [
    "import os\n",
    "import numpy as np\n",
    "import pandas as pd\n",
    "import matplotlib.pyplot as plt\n",
    "from pathlib import Path\n",
    "\n",
    "# Directory paths\n",
    "main = '../Image_classification_data/data_labels_mainData.csv'\n",
    "extra = '../Image_classification_data/data_labels_extraData.csv'\n",
    "img_dir = '../Image_classification_data/patch_images'\n"
   ]
  },
  {
   "cell_type": "markdown",
   "id": "4d2fa016",
   "metadata": {},
   "source": [
    "## 1. Load & Inspect Labels\n",
    "### 1.1 Data Exploration and Understanding"
   ]
  },
  {
   "cell_type": "code",
   "execution_count": null,
   "id": "94a82d66",
   "metadata": {},
   "outputs": [
    {
     "name": "stdout",
     "output_type": "stream",
     "text": [
      "Main labels shape: (9896, 6)\n",
      "   InstanceID  patientID  ImageName cellTypeName  cellType  isCancerous\n",
      "0       22405          1  22405.png   fibroblast         0            0\n",
      "1       22406          1  22406.png   fibroblast         0            0\n",
      "2       22407          1  22407.png   fibroblast         0            0\n",
      "3       22408          1  22408.png   fibroblast         0            0\n",
      "4       22409          1  22409.png   fibroblast         0            0\n",
      "\n",
      "Extra labels shape: (10384, 4)\n",
      "   InstanceID  patientID  ImageName  isCancerous\n",
      "0       12681         61  12681.png            0\n",
      "1       12682         61  12682.png            0\n",
      "2       12683         61  12683.png            0\n",
      "3       12684         61  12684.png            0\n",
      "4       12685         61  12685.png            0\n"
     ]
    },
    {
     "data": {
      "image/png": "[encoded data removed]",
      "text/plain": [
       "<Figure size 600x400 with 1 Axes>"
      ]
     },
     "metadata": {},
     "output_type": "display_data"
    },
    {
     "name": "stdout",
     "output_type": "stream",
     "text": [
      "<class 'pandas.core.frame.DataFrame'>\n",
      "RangeIndex: 9896 entries, 0 to 9895\n",
      "Data columns (total 6 columns):\n",
      " #   Column        Non-Null Count  Dtype \n",
      "---  ------        --------------  ----- \n",
      " 0   InstanceID    9896 non-null   int64 \n",
      " 1   patientID     9896 non-null   int64 \n",
      " 2   ImageName     9896 non-null   object\n",
      " 3   cellTypeName  9896 non-null   object\n",
      " 4   cellType      9896 non-null   int64 \n",
      " 5   isCancerous   9896 non-null   int64 \n",
      "dtypes: int64(4), object(2)\n",
      "memory usage: 464.0+ KB\n",
      "<class 'pandas.core.frame.DataFrame'>\n",
      "RangeIndex: 10384 entries, 0 to 10383\n",
      "Data columns (total 4 columns):\n",
      " #   Column       Non-Null Count  Dtype \n",
      "---  ------       --------------  ----- \n",
      " 0   InstanceID   10384 non-null  int64 \n",
      " 1   patientID    10384 non-null  int64 \n",
      " 2   ImageName    10384 non-null  object\n",
      " 3   isCancerous  10384 non-null  int64 \n",
      "dtypes: int64(3), object(1)\n",
      "memory usage: 324.6+ KB\n"
     ]
    }
   ],
   "source": [
    "df_main = pd.read_csv(main)\n",
    "df_extra = pd.read_csv(extra)\n",
    "print('Main labels shape:', df_main.shape)\n",
    "print(df_main.head())\n",
    "print('\\nExtra labels shape:', df_extra.shape)\n",
    "print(df_extra.head())\n",
    "\n",
    "counts = df_main['isCancerous'].value_counts().sort_index()\n",
    "\n",
    "class_names = ['Non-Cancerous', 'Cancerous']\n",
    "counts.index = class_names\n",
    "\n",
    "plt.figure(figsize=(6, 4))\n",
    "bars = plt.bar(counts.index, counts.values)\n",
    "plt.title('Distribution of isCancerous Classes')\n",
    "plt.xlabel('Class')\n",
    "plt.ylabel('Number of Images')\n",
    "\n",
    "plt.tight_layout()\n",
    "plt.show()\n",
    "\n",
    "df_main.info()\n",
    "\n",
    "df_main.isna()\n",
    "\n",
    "df_extra.info()\n"
   ]
  },
  {
   "cell_type": "markdown",
   "id": "8d42d5b0",
   "metadata": {},
   "source": [
    "## 3. Data Exploration & Understanding"
   ]
  },
  {
   "cell_type": "code",
   "execution_count": 175,
   "id": "a3b56ca5",
   "metadata": {},
   "outputs": [],
   "source": [
    "# TODO: Visualize class imbalance for 'isCancerous'\n",
    "# TODO: Visualize multiclass distribution for 'cellTypeName'\n",
    "# TODO: Display sample images from each class\n"
   ]
  },
  {
   "cell_type": "markdown",
   "id": "66ea7be6",
   "metadata": {},
   "source": [
    "## 4. Evaluation Framework"
   ]
  },
  {
   "cell_type": "code",
   "execution_count": 176,
   "id": "008aad8f",
   "metadata": {},
   "outputs": [],
   "source": [
    "# TODO: Split data by patient into train/val/test\n",
    "# Ensure no leakage across splits\n",
    "# TODO: Define evaluation metrics (e.g., macro-F1, precision, recall)\n"
   ]
  },
  {
   "cell_type": "markdown",
   "id": "d1a83bad",
   "metadata": {},
   "source": [
    "## 5. Model Baselines"
   ]
  },
  {
   "cell_type": "markdown",
   "id": "1e0a2d73",
   "metadata": {},
   "source": [
    "### 5.1 ANN Baseline"
   ]
  },
  {
   "cell_type": "code",
   "execution_count": 177,
   "id": "214f1e80",
   "metadata": {},
   "outputs": [],
   "source": [
    "# TODO: Define and compile a fully-connected ANN model\n"
   ]
  },
  {
   "cell_type": "markdown",
   "id": "161b7ec5",
   "metadata": {},
   "source": [
    "### 5.2 CNN Baseline"
   ]
  },
  {
   "cell_type": "code",
   "execution_count": 178,
   "id": "4f439877",
   "metadata": {},
   "outputs": [],
   "source": [
    "# TODO: Define and compile a CNN model\n"
   ]
  },
  {
   "cell_type": "markdown",
   "id": "55d94c5d",
   "metadata": {},
   "source": [
    "### 5.3 Decision Tree Baseline"
   ]
  },
  {
   "cell_type": "code",
   "execution_count": 179,
   "id": "65499329",
   "metadata": {},
   "outputs": [],
   "source": [
    "# TODO: Define and train a DecisionTreeClassifier on flattened images\n"
   ]
  },
  {
   "cell_type": "markdown",
   "id": "a8dfaa1f",
   "metadata": {},
   "source": [
    "## 6. Optimization & Hyperparameter Tuning"
   ]
  },
  {
   "cell_type": "code",
   "execution_count": 180,
   "id": "edbef0da",
   "metadata": {},
   "outputs": [],
   "source": [
    "# TODO: Plot learning curves to identify overfitting/underfitting\n",
    "# TODO: Apply regularization techniques (dropout, weight decay)\n",
    "# TODO: Use validation set for hyperparameter tuning\n"
   ]
  },
  {
   "cell_type": "markdown",
   "id": "c7ba4ef1",
   "metadata": {},
   "source": [
    "## 7. Final Performance & Robustness"
   ]
  },
  {
   "cell_type": "code",
   "execution_count": 181,
   "id": "fed86b56",
   "metadata": {},
   "outputs": [],
   "source": [
    "# TODO: Evaluate chosen model on test set\n",
    "# TODO: Assess robustness across patient subsets\n"
   ]
  },
  {
   "cell_type": "markdown",
   "id": "350eb3e6",
   "metadata": {},
   "source": [
    "## 8. Independent Evaluation"
   ]
  },
  {
   "cell_type": "code",
   "execution_count": 182,
   "id": "5d2144fc",
   "metadata": {},
   "outputs": [],
   "source": [
    "# TODO: Compare model performance to literature (e.g., Sirinukunwattana et al. 2016)\n"
   ]
  },
  {
   "cell_type": "markdown",
   "id": "1a897cc6",
   "metadata": {},
   "source": [
    "## 9. Conclusion & Ultimate Judgment"
   ]
  },
  {
   "cell_type": "markdown",
   "id": "7e2b5600",
   "metadata": {},
   "source": [
    "## Appendix\n",
    "Detailed hyperparameters, extended results, and additional literature notes."
   ]
  }
 ],
 "metadata": {
  "kernelspec": {
   "display_name": "base",
   "language": "python",
   "name": "python3"
  },
  "language_info": {
   "codemirror_mode": {
    "name": "ipython",
    "version": 3
   },
   "file_extension": ".py",
   "mimetype": "text/x-python",
   "name": "python",
   "nbconvert_exporter": "python",
   "pygments_lexer": "ipython3",
   "version": "3.12.7"
  }
 },
 "nbformat": 4,
 "nbformat_minor": 5
}
